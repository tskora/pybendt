{
 "cells": [
  {
   "cell_type": "code",
   "execution_count": 1,
   "id": "4ad33828",
   "metadata": {},
   "outputs": [],
   "source": [
    "import numpy as np\n",
    "import matplotlib.pyplot as plt\n",
    "%matplotlib inline\n",
    "\n",
    "from Config import plot_config\n",
    "plot_config()"
   ]
  },
  {
   "cell_type": "code",
   "execution_count": 2,
   "id": "92a6101a",
   "metadata": {},
   "outputs": [],
   "source": [
    "from pybendt.pseudorandom import Pseudorandom\n",
    "from pybendt.atom import Atom, friction_from_hydrodynamic_radius_and_viscosity\n",
    "from pybendt.interaction import *\n",
    "from pybendt.reaction import *"
   ]
  },
  {
   "cell_type": "code",
   "execution_count": 3,
   "id": "69659709",
   "metadata": {},
   "outputs": [],
   "source": [
    "friction = friction_from_hydrodynamic_radius_and_viscosity(hydradius = 10.0, viscosity = 1.0)"
   ]
  },
  {
   "cell_type": "code",
   "execution_count": 4,
   "id": "05c974da",
   "metadata": {},
   "outputs": [],
   "source": [
    "pseudorandom = Pseudorandom(dimensions = 2, seed = 14)"
   ]
  },
  {
   "cell_type": "code",
   "execution_count": 5,
   "id": "a80364d6",
   "metadata": {},
   "outputs": [],
   "source": [
    "a1 = Atom([-20.0, -10.0], friction, dimensions = 2, color = 'red')\n",
    "a2 = Atom([-20.0, 10.0], friction, dimensions = 2, color = 'blue')\n",
    "a3 = Atom([0.0, 0.0], friction, dimensions = 2, color = 'black')\n",
    "a4 = Atom([20.0, 10.0], friction, dimensions = 2, color = 'blue')\n",
    "a5 = Atom([20.0, -10.0], friction, dimensions = 2, color = 'red')\n",
    "atoms = [a1, a2, a3, a4, a5]"
   ]
  },
  {
   "cell_type": "code",
   "execution_count": 6,
   "id": "924af289",
   "metadata": {},
   "outputs": [],
   "source": [
    "i1 = a1.add_interaction(a2, harmonic_force, harmonic_energy, {\"force_constant\": 1.0, \"equilibrium_distance\": 20.0})\n",
    "i2 = a1.add_interaction(a3, harmonic_force, harmonic_energy, {\"force_constant\": 0.08, \"equilibrium_distance\": np.sqrt(500.0)})\n",
    "i3 = a2.add_interaction(a3, harmonic_force, harmonic_energy, {\"force_constant\": 0.08, \"equilibrium_distance\": np.sqrt(500.0)})\n",
    "i4 = a3.add_interaction(a4, harmonic_force, harmonic_energy, {\"force_constant\": 0.08, \"equilibrium_distance\": np.sqrt(500.0)})\n",
    "i5 = a3.add_interaction(a5, harmonic_force, harmonic_energy, {\"force_constant\": 0.08, \"equilibrium_distance\": np.sqrt(500.0)})\n",
    "i6 = a4.add_interaction(a5, harmonic_force, harmonic_energy, {\"force_constant\": 1.0, \"equilibrium_distance\": 20.0})\n",
    "interactions = []\n",
    "for a in atoms:\n",
    "    for i in a.interactions:\n",
    "        if i not in interactions: interactions.append(i)"
   ]
  },
  {
   "cell_type": "markdown",
   "id": "ed019a88",
   "metadata": {},
   "source": [
    "Initial structure"
   ]
  },
  {
   "cell_type": "code",
   "execution_count": 7,
   "id": "1827f775",
   "metadata": {},
   "outputs": [
    {
     "data": {
      "image/png": "[encoded data removed]",
      "text/plain": [
       "<Figure size 216x144 with 1 Axes>"
      ]
     },
     "metadata": {
      "needs_background": "light"
     },
     "output_type": "display_data"
    }
   ],
   "source": [
    "fig, ax = plt.subplots()\n",
    "DefaultSize = fig.get_size_inches()\n",
    "fig.set_size_inches( (DefaultSize[0]/2, DefaultSize[1]/2) )\n",
    "nx=1\n",
    "ny=1\n",
    "grid = plt.GridSpec(nrows=ny, ncols=nx, wspace=0.2, hspace=0.8)\n",
    "axa = plt.subplot(grid[0, 0])\n",
    "_ = axa.set_aspect('equal')\n",
    "_ = axa.set_xlim((-45,45))\n",
    "_ = axa.set_ylim((-45,45))\n",
    "for a in atoms:\n",
    "    _ = axa.plot([a.position[0]], [a.position[1]], 'o', ms = 6, color = a.color)\n",
    "for interaction in interactions:\n",
    "    _ = axa.plot([interaction.atom1.position[0], interaction.atom2.position[0]], [interaction.atom1.position[1], interaction.atom2.position[1]], '-', color = 'black')"
   ]
  },
  {
   "cell_type": "code",
   "execution_count": 8,
   "id": "25fb7f8f",
   "metadata": {},
   "outputs": [],
   "source": [
    "i7 = Interaction(None, None, harmonic_force, harmonic_energy, {\"force_constant\": 10.0, \"equilibrium_distance\": 35.0})\n",
    "i8 = Interaction(None, None, harmonic_force, harmonic_energy, {\"force_constant\": 10.0, \"equilibrium_distance\": 35.0})\n",
    "\n",
    "r1_rc1 = ReactionCondition([a1, a5], distance_condition, {\"sign\": \"<\", \"reaction_distance\": 35.0})\n",
    "r1_rc2 = ReactionCondition([a2, a4], distance_condition, {\"sign\": \"<\", \"reaction_distance\": 35.0})\n",
    "\n",
    "r1 = a1.add_reaction([r1_rc1, r1_rc2], [remove_interaction_effect]*2+[add_interaction_effect]*2, [{\"interaction\": i2}, {\"interaction\": i3}, {\"interaction\": i7, \"atom1\": a1, \"atom2\": a5}, {\"interaction\": i8, \"atom1\": a2, \"atom2\": a4}])\n",
    "\n",
    "reactions = []\n",
    "for a in atoms:\n",
    "    for r in a.reactions:\n",
    "        if r not in reactions: reactions.append(r)"
   ]
  },
  {
   "cell_type": "code",
   "execution_count": 9,
   "id": "ff54c590",
   "metadata": {},
   "outputs": [],
   "source": [
    "timestep = 1.0\n",
    "temperature = 310.0\n",
    "N_steps = 10000"
   ]
  },
  {
   "cell_type": "code",
   "execution_count": 10,
   "id": "dad53170",
   "metadata": {},
   "outputs": [
    {
     "name": "stdout",
     "output_type": "stream",
     "text": [
      "interaction removed\n",
      "interaction removed\n",
      "interaction added\n",
      "interaction added\n",
      "reaction removed\n"
     ]
    }
   ],
   "source": [
    "for index in range(N_steps):\n",
    "    pointers = np.zeros((len(atoms), len(atoms), 2))\n",
    "    distances = np.zeros((len(atoms), len(atoms)))\n",
    "    id_to_index = {}\n",
    "    for i in range(len(atoms)):\n",
    "        id_to_index[atoms[i].id]=i\n",
    "        for j in range(i):\n",
    "            pointers[i][j] = atoms[j].position - atoms[i].position\n",
    "            pointers[j][i] = -pointers[i][j]\n",
    "            distances[i][j] = distances[j][i] = np.sqrt(np.sum(pointers[i][j]**2))\n",
    "\n",
    "    reaction_happened = False\n",
    "    for reaction in reactions:\n",
    "        for reaction_condition in reaction.reaction_conditions:\n",
    "            if reaction_condition.condition_function.__name__ == \"distance_condition\":\n",
    "                reaction_condition.evaluate_condition(distances[id_to_index[reaction_condition.atoms[0].id]][id_to_index[reaction_condition.atoms[1].id]])\n",
    "            if reaction.conditions_fulfilled():\n",
    "                reaction.effect()\n",
    "                reaction_happened = True\n",
    "\n",
    "    # restart after reactions if needed\n",
    "    if reaction_happened:\n",
    "        interactions = []\n",
    "        for a in atoms:\n",
    "            for i in a.interactions:\n",
    "                if i not in interactions: interactions.append(i)\n",
    "        reactions = []\n",
    "        for a in atoms:\n",
    "            for r in a.reactions:\n",
    "                if r not in reactions: reactions.append(r)\n",
    "\n",
    "    E = 0\n",
    "    for interaction in interactions:\n",
    "        interaction.compute_force(distances[id_to_index[interaction.atom1.id]][id_to_index[interaction.atom2.id]],\\\n",
    "                                  pointers[id_to_index[interaction.atom1.id]][id_to_index[interaction.atom2.id]])\n",
    "        interaction.compute_energy(distances[id_to_index[interaction.atom1.id]][id_to_index[interaction.atom2.id]])\n",
    "        E += interaction.energy/kB_in_kcal_per_mole_per_kelvin/temperature\n",
    "\n",
    "    for a in atoms:\n",
    "        a.deterministic_move(timestep)\n",
    "        a.brownian_move(timestep, temperature, pseudorandom.draw())\n",
    "        a.reset_force()"
   ]
  },
  {
   "cell_type": "markdown",
   "id": "fce9c717",
   "metadata": {},
   "source": [
    "Final structure"
   ]
  },
  {
   "cell_type": "code",
   "execution_count": 11,
   "id": "44155528",
   "metadata": {},
   "outputs": [
    {
     "data": {
      "image/png": "[encoded data removed]",
      "text/plain": [
       "<Figure size 216x144 with 1 Axes>"
      ]
     },
     "metadata": {
      "needs_background": "light"
     },
     "output_type": "display_data"
    }
   ],
   "source": [
    "fig, ax = plt.subplots()\n",
    "DefaultSize = fig.get_size_inches()\n",
    "fig.set_size_inches( (DefaultSize[0]/2, DefaultSize[1]/2) )\n",
    "nx=1\n",
    "ny=1\n",
    "grid = plt.GridSpec(nrows=ny, ncols=nx, wspace=0.2, hspace=0.8)\n",
    "axa = plt.subplot(grid[0, 0])\n",
    "_ = axa.set_aspect('equal')\n",
    "_ = axa.set_xlim((-45,45))\n",
    "_ = axa.set_ylim((-45,45))\n",
    "for a in atoms:\n",
    "    _ = axa.plot([a.position[0]], [a.position[1]], 'o', ms = 6, color = a.color)\n",
    "for interaction in interactions:\n",
    "    _ = axa.plot([interaction.atom1.position[0], interaction.atom2.position[0]], [interaction.atom1.position[1], interaction.atom2.position[1]], '-', color = 'black')"
   ]
  },
  {
   "cell_type": "code",
   "execution_count": null,
   "id": "2a85ae69",
   "metadata": {},
   "outputs": [],
   "source": []
  }
 ],
 "metadata": {
  "kernelspec": {
   "display_name": "Python 3",
   "language": "python",
   "name": "python3"
  },
  "language_info": {
   "codemirror_mode": {
    "name": "ipython",
    "version": 3
   },
   "file_extension": ".py",
   "mimetype": "text/x-python",
   "name": "python",
   "nbconvert_exporter": "python",
   "pygments_lexer": "ipython3",
   "version": "3.7.9"
  },
  "latex_envs": {
   "LaTeX_envs_menu_present": true,
   "autoclose": true,
   "autocomplete": true,
   "bibliofile": "biblio.bib",
   "cite_by": "apalike",
   "current_citInitial": 1,
   "eqLabelWithNumbers": true,
   "eqNumInitial": 1,
   "hotkeys": {
    "equation": "Ctrl-E",
    "itemize": "Ctrl-I"
   },
   "labels_anchors": false,
   "latex_user_defs": false,
   "report_style_numbering": false,
   "user_envs_cfg": false
  }
 },
 "nbformat": 4,
 "nbformat_minor": 5
}
